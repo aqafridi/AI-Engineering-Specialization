{
  "nbformat": 4,
  "nbformat_minor": 0,
  "metadata": {
    "kernelspec": {
      "display_name": "Python 3",
      "language": "python",
      "name": "python3"
    },
    "language_info": {
      "codemirror_mode": {
        "name": "ipython",
        "version": 3
      },
      "file_extension": ".py",
      "mimetype": "text/x-python",
      "name": "python",
      "nbconvert_exporter": "python",
      "pygments_lexer": "ipython3",
      "version": "3.7.6"
    },
    "colab": {
      "name": "1.3.1_simple_data_set_v2.ipynb",
      "provenance": [],
      "collapsed_sections": []
    }
  },
  "cells": [
    {
      "cell_type": "markdown",
      "metadata": {
        "id": "48ggvO7PA20L"
      },
      "source": [
        "<h1>Simple Dataset</h1> \n"
      ]
    },
    {
      "cell_type": "markdown",
      "metadata": {
        "id": "WTbsMBVfA20O"
      },
      "source": [
        "<h2>Objective</h2><ul><li> How to create a dataset in pytorch.</li><li> How to perform transformations on the dataset.</li></ul> \n"
      ]
    },
    {
      "cell_type": "markdown",
      "metadata": {
        "id": "jZvxenKUA20Q"
      },
      "source": [
        "<h2>Table of Contents</h2>\n"
      ]
    },
    {
      "cell_type": "markdown",
      "metadata": {
        "id": "7vH5OYhvA20R"
      },
      "source": [
        "<p>In this lab, you will construct a basic dataset by using PyTorch and learn how to apply basic transformations to it.</p> \n",
        "<ul>\n",
        "    <li><a href=\"#Simple_Dataset\">Simple dataset</a></li>\n",
        "    <li><a href=\"#Transforms\">Transforms</a></li>\n",
        "    <li><a href=\"#Compose\">Compose</a></li>\n",
        "</ul>\n",
        "<p>Estimated Time Needed: <strong>30 min</strong></p>\n",
        "<hr>\n"
      ]
    },
    {
      "cell_type": "markdown",
      "metadata": {
        "id": "RNeoSNd6A20T"
      },
      "source": [
        "<h2>Preparation</h2>\n"
      ]
    },
    {
      "cell_type": "markdown",
      "metadata": {
        "id": "3c1RY3BZA20V"
      },
      "source": [
        "The following are the libraries we are going to use for this lab. The <code>torch.manual_seed()</code> is for forcing the random function to give the same number every time we try to recompile it.\n"
      ]
    },
    {
      "cell_type": "code",
      "metadata": {
        "colab": {
          "base_uri": "https://localhost:8080/"
        },
        "id": "HjebHpyxA20Y",
        "outputId": "5d80b401-5bc0-4e05-af2b-05cba1453088"
      },
      "source": [
        "# These are the libraries will be used for this lab.\n",
        "\n",
        "import torch\n",
        "from torch.utils.data import Dataset\n",
        "torch.manual_seed(1)"
      ],
      "execution_count": 1,
      "outputs": [
        {
          "output_type": "execute_result",
          "data": {
            "text/plain": [
              "<torch._C.Generator at 0x7fa8d17b6a70>"
            ]
          },
          "metadata": {},
          "execution_count": 1
        }
      ]
    },
    {
      "cell_type": "markdown",
      "metadata": {
        "id": "TGP4nJ6tA20f"
      },
      "source": [
        "<!--Empty Space for separating topics-->\n"
      ]
    },
    {
      "cell_type": "markdown",
      "metadata": {
        "id": "SIzIWJ-aA20h"
      },
      "source": [
        "<h2 id=\"Simple_Dataset\">Simple dataset</h2>\n"
      ]
    },
    {
      "cell_type": "markdown",
      "metadata": {
        "id": "mJiDd8RwA20j"
      },
      "source": [
        "Let us try to create our own dataset class.\n"
      ]
    },
    {
      "cell_type": "code",
      "metadata": {
        "id": "RuyOX08pA20j"
      },
      "source": [
        "# Define class for dataset\n",
        "\n",
        "class toy_set(Dataset):\n",
        "    \n",
        "    # Constructor with defult values \n",
        "    def __init__(self, length = 100, transform = None):\n",
        "        self.len = length\n",
        "        self.x = 2 * torch.ones(length, 2)\n",
        "        self.y = torch.ones(length, 1)\n",
        "        self.transform = transform\n",
        "     \n",
        "    # Getter\n",
        "    def __getitem__(self, index):\n",
        "        sample = self.x[index], self.y[index]\n",
        "        if self.transform:\n",
        "            sample = self.transform(sample)     \n",
        "        return sample\n",
        "    \n",
        "    # Get Length\n",
        "    def __len__(self):\n",
        "        return self.len"
      ],
      "execution_count": 21,
      "outputs": []
    },
    {
      "cell_type": "markdown",
      "metadata": {
        "id": "0Ev3P_LoA20l"
      },
      "source": [
        "Now, let us create our <code>toy_set</code> object, and find out the value on index 1 and the length of the inital dataset\n"
      ]
    },
    {
      "cell_type": "code",
      "metadata": {
        "colab": {
          "base_uri": "https://localhost:8080/"
        },
        "id": "EwvwJJxLA20m",
        "outputId": "aa5f17ac-15f8-495d-9ebe-ede6e99b915a"
      },
      "source": [
        "# Create Dataset Object. Find out the value on index 1. Find out the length of Dataset Object.\n",
        "\n",
        "our_dataset = toy_set()\n",
        "print(\"Our toy_set object: \", our_dataset)\n",
        "print(\"Value on index 0 of our toy_set object: \", our_dataset[0])\n",
        "print(\"Our toy_set length: \", len(our_dataset))"
      ],
      "execution_count": 22,
      "outputs": [
        {
          "output_type": "stream",
          "name": "stdout",
          "text": [
            "Our toy_set object:  <__main__.toy_set object at 0x7fa8ceb39a50>\n",
            "Value on index 0 of our toy_set object:  (tensor([2., 2.]), tensor([1.]))\n",
            "Our toy_set length:  100\n"
          ]
        }
      ]
    },
    {
      "cell_type": "markdown",
      "metadata": {
        "id": "0xGpRXviA20n"
      },
      "source": [
        "As a result, we can apply the same indexing convention as a <code>list</code>,\n",
        "and apply the fuction <code>len</code> on the <code>toy_set</code> object. We are able to customize the indexing and length method by <code>def __getitem__(self, index)</code> and <code>def __len__(self)</code>.\n"
      ]
    },
    {
      "cell_type": "markdown",
      "metadata": {
        "id": "WvriW4yAA20o"
      },
      "source": [
        "Now, let us print out the first 3 elements and assign them to x and y:\n"
      ]
    },
    {
      "cell_type": "code",
      "metadata": {
        "colab": {
          "base_uri": "https://localhost:8080/"
        },
        "id": "-7iA-614A20q",
        "outputId": "355c22ff-3164-4822-a8b2-db2cd3139248"
      },
      "source": [
        "# Use loop to print out first 3 elements in dataset\n",
        "\n",
        "for i in range(3):\n",
        "    x, y=our_dataset[i]\n",
        "    print(\"index: \", i, '; x:', x, '; y:', y)"
      ],
      "execution_count": 23,
      "outputs": [
        {
          "output_type": "stream",
          "name": "stdout",
          "text": [
            "index:  0 ; x: tensor([2., 2.]) ; y: tensor([1.])\n",
            "index:  1 ; x: tensor([2., 2.]) ; y: tensor([1.])\n",
            "index:  2 ; x: tensor([2., 2.]) ; y: tensor([1.])\n"
          ]
        }
      ]
    },
    {
      "cell_type": "markdown",
      "metadata": {
        "id": "1ELwCqFcA20s"
      },
      "source": [
        "The dataset object is an Iterable; as a result, we  apply the loop directly on the dataset object \n"
      ]
    },
    {
      "cell_type": "code",
      "metadata": {
        "colab": {
          "base_uri": "https://localhost:8080/"
        },
        "id": "jGv5e8aOA20t",
        "outputId": "748bb8a7-a971-4120-8d58-8856ee938376"
      },
      "source": [
        "for x,y in our_dataset:\n",
        "    print(' x:', x, 'y:', y)"
      ],
      "execution_count": 24,
      "outputs": [
        {
          "output_type": "stream",
          "name": "stdout",
          "text": [
            " x: tensor([2., 2.]) y: tensor([1.])\n",
            " x: tensor([2., 2.]) y: tensor([1.])\n",
            " x: tensor([2., 2.]) y: tensor([1.])\n",
            " x: tensor([2., 2.]) y: tensor([1.])\n",
            " x: tensor([2., 2.]) y: tensor([1.])\n",
            " x: tensor([2., 2.]) y: tensor([1.])\n",
            " x: tensor([2., 2.]) y: tensor([1.])\n",
            " x: tensor([2., 2.]) y: tensor([1.])\n",
            " x: tensor([2., 2.]) y: tensor([1.])\n",
            " x: tensor([2., 2.]) y: tensor([1.])\n",
            " x: tensor([2., 2.]) y: tensor([1.])\n",
            " x: tensor([2., 2.]) y: tensor([1.])\n",
            " x: tensor([2., 2.]) y: tensor([1.])\n",
            " x: tensor([2., 2.]) y: tensor([1.])\n",
            " x: tensor([2., 2.]) y: tensor([1.])\n",
            " x: tensor([2., 2.]) y: tensor([1.])\n",
            " x: tensor([2., 2.]) y: tensor([1.])\n",
            " x: tensor([2., 2.]) y: tensor([1.])\n",
            " x: tensor([2., 2.]) y: tensor([1.])\n",
            " x: tensor([2., 2.]) y: tensor([1.])\n",
            " x: tensor([2., 2.]) y: tensor([1.])\n",
            " x: tensor([2., 2.]) y: tensor([1.])\n",
            " x: tensor([2., 2.]) y: tensor([1.])\n",
            " x: tensor([2., 2.]) y: tensor([1.])\n",
            " x: tensor([2., 2.]) y: tensor([1.])\n",
            " x: tensor([2., 2.]) y: tensor([1.])\n",
            " x: tensor([2., 2.]) y: tensor([1.])\n",
            " x: tensor([2., 2.]) y: tensor([1.])\n",
            " x: tensor([2., 2.]) y: tensor([1.])\n",
            " x: tensor([2., 2.]) y: tensor([1.])\n",
            " x: tensor([2., 2.]) y: tensor([1.])\n",
            " x: tensor([2., 2.]) y: tensor([1.])\n",
            " x: tensor([2., 2.]) y: tensor([1.])\n",
            " x: tensor([2., 2.]) y: tensor([1.])\n",
            " x: tensor([2., 2.]) y: tensor([1.])\n",
            " x: tensor([2., 2.]) y: tensor([1.])\n",
            " x: tensor([2., 2.]) y: tensor([1.])\n",
            " x: tensor([2., 2.]) y: tensor([1.])\n",
            " x: tensor([2., 2.]) y: tensor([1.])\n",
            " x: tensor([2., 2.]) y: tensor([1.])\n",
            " x: tensor([2., 2.]) y: tensor([1.])\n",
            " x: tensor([2., 2.]) y: tensor([1.])\n",
            " x: tensor([2., 2.]) y: tensor([1.])\n",
            " x: tensor([2., 2.]) y: tensor([1.])\n",
            " x: tensor([2., 2.]) y: tensor([1.])\n",
            " x: tensor([2., 2.]) y: tensor([1.])\n",
            " x: tensor([2., 2.]) y: tensor([1.])\n",
            " x: tensor([2., 2.]) y: tensor([1.])\n",
            " x: tensor([2., 2.]) y: tensor([1.])\n",
            " x: tensor([2., 2.]) y: tensor([1.])\n",
            " x: tensor([2., 2.]) y: tensor([1.])\n",
            " x: tensor([2., 2.]) y: tensor([1.])\n",
            " x: tensor([2., 2.]) y: tensor([1.])\n",
            " x: tensor([2., 2.]) y: tensor([1.])\n",
            " x: tensor([2., 2.]) y: tensor([1.])\n",
            " x: tensor([2., 2.]) y: tensor([1.])\n",
            " x: tensor([2., 2.]) y: tensor([1.])\n",
            " x: tensor([2., 2.]) y: tensor([1.])\n",
            " x: tensor([2., 2.]) y: tensor([1.])\n",
            " x: tensor([2., 2.]) y: tensor([1.])\n",
            " x: tensor([2., 2.]) y: tensor([1.])\n",
            " x: tensor([2., 2.]) y: tensor([1.])\n",
            " x: tensor([2., 2.]) y: tensor([1.])\n",
            " x: tensor([2., 2.]) y: tensor([1.])\n",
            " x: tensor([2., 2.]) y: tensor([1.])\n",
            " x: tensor([2., 2.]) y: tensor([1.])\n",
            " x: tensor([2., 2.]) y: tensor([1.])\n",
            " x: tensor([2., 2.]) y: tensor([1.])\n",
            " x: tensor([2., 2.]) y: tensor([1.])\n",
            " x: tensor([2., 2.]) y: tensor([1.])\n",
            " x: tensor([2., 2.]) y: tensor([1.])\n",
            " x: tensor([2., 2.]) y: tensor([1.])\n",
            " x: tensor([2., 2.]) y: tensor([1.])\n",
            " x: tensor([2., 2.]) y: tensor([1.])\n",
            " x: tensor([2., 2.]) y: tensor([1.])\n",
            " x: tensor([2., 2.]) y: tensor([1.])\n",
            " x: tensor([2., 2.]) y: tensor([1.])\n",
            " x: tensor([2., 2.]) y: tensor([1.])\n",
            " x: tensor([2., 2.]) y: tensor([1.])\n",
            " x: tensor([2., 2.]) y: tensor([1.])\n",
            " x: tensor([2., 2.]) y: tensor([1.])\n",
            " x: tensor([2., 2.]) y: tensor([1.])\n",
            " x: tensor([2., 2.]) y: tensor([1.])\n",
            " x: tensor([2., 2.]) y: tensor([1.])\n",
            " x: tensor([2., 2.]) y: tensor([1.])\n",
            " x: tensor([2., 2.]) y: tensor([1.])\n",
            " x: tensor([2., 2.]) y: tensor([1.])\n",
            " x: tensor([2., 2.]) y: tensor([1.])\n",
            " x: tensor([2., 2.]) y: tensor([1.])\n",
            " x: tensor([2., 2.]) y: tensor([1.])\n",
            " x: tensor([2., 2.]) y: tensor([1.])\n",
            " x: tensor([2., 2.]) y: tensor([1.])\n",
            " x: tensor([2., 2.]) y: tensor([1.])\n",
            " x: tensor([2., 2.]) y: tensor([1.])\n",
            " x: tensor([2., 2.]) y: tensor([1.])\n",
            " x: tensor([2., 2.]) y: tensor([1.])\n",
            " x: tensor([2., 2.]) y: tensor([1.])\n",
            " x: tensor([2., 2.]) y: tensor([1.])\n",
            " x: tensor([2., 2.]) y: tensor([1.])\n",
            " x: tensor([2., 2.]) y: tensor([1.])\n"
          ]
        }
      ]
    },
    {
      "cell_type": "markdown",
      "metadata": {
        "id": "55y17okFA20u"
      },
      "source": [
        "<!--Empty Space for separating topics-->\n"
      ]
    },
    {
      "cell_type": "markdown",
      "metadata": {
        "id": "O_zelQrPA20v"
      },
      "source": [
        "<h3>Practice</h3>\n"
      ]
    },
    {
      "cell_type": "markdown",
      "metadata": {
        "id": "f92bBqBmA20v"
      },
      "source": [
        "Try to create an <code>toy_set</code> object with length <b>50</b>. Print out the length of your object.\n"
      ]
    },
    {
      "cell_type": "code",
      "metadata": {
        "colab": {
          "base_uri": "https://localhost:8080/"
        },
        "id": "16tHtdlzA20w",
        "outputId": "b6c76921-7fcb-45ef-9e55-595e26f4aa25"
      },
      "source": [
        "# Practice: Create a new object with length 50, and print the length of object out.\n",
        "my_dataset = toy_set(length = 50)\n",
        "print(\"My toy_set length: \", len(my_dataset))\n",
        "# Type your code here"
      ],
      "execution_count": 25,
      "outputs": [
        {
          "output_type": "stream",
          "name": "stdout",
          "text": [
            "My toy_set length:  50\n"
          ]
        }
      ]
    },
    {
      "cell_type": "markdown",
      "metadata": {
        "id": "K2zaSYdvA20x"
      },
      "source": [
        "Double-click <b>here</b> for the solution.\n",
        "\n",
        "<!-- \n",
        "my_dataset = toy_set(length = 50)\n",
        "print(\"My toy_set length: \", len(my_dataset))\n",
        "-->\n"
      ]
    },
    {
      "cell_type": "markdown",
      "metadata": {
        "id": "NEw06ok3A20x"
      },
      "source": [
        "<!--Empty Space for separating topics-->\n"
      ]
    },
    {
      "cell_type": "markdown",
      "metadata": {
        "id": "zio4oz1WA20x"
      },
      "source": [
        "<h2 id=\"Transforms\">Transforms</h2>\n"
      ]
    },
    {
      "cell_type": "markdown",
      "metadata": {
        "id": "P-8ZYgPsA20y"
      },
      "source": [
        "You can also create a class for transforming the data. In this case, we will try to add 1 to x and multiply y by 2:\n"
      ]
    },
    {
      "cell_type": "code",
      "metadata": {
        "id": "lypwS1uQA20y"
      },
      "source": [
        "# Create tranform class add_mult\n",
        "\n",
        "class add_mult(object):\n",
        "    \n",
        "    # Constructor\n",
        "    def __init__(self, addx = 1, muly = 2):\n",
        "        self.addx = addx\n",
        "        self.muly = muly\n",
        "    \n",
        "    # Executor\n",
        "    def __call__(self, sample):\n",
        "        x = sample[0]\n",
        "        y = sample[1]\n",
        "        x = x + self.addx\n",
        "        y = y * self.muly\n",
        "        sample = x, y\n",
        "        return sample"
      ],
      "execution_count": 7,
      "outputs": []
    },
    {
      "cell_type": "markdown",
      "metadata": {
        "id": "Nz5XgfAzA20z"
      },
      "source": [
        "<!--Empty Space for separating topics-->\n"
      ]
    },
    {
      "cell_type": "markdown",
      "metadata": {
        "id": "9lZyN2F6A20z"
      },
      "source": [
        "Now, create a transform object:.\n"
      ]
    },
    {
      "cell_type": "code",
      "metadata": {
        "id": "YEbnSBcpA20z"
      },
      "source": [
        "# Create an add_mult transform object, and an toy_set object\n",
        "\n",
        "a_m = add_mult()\n",
        "data_set = toy_set()"
      ],
      "execution_count": 8,
      "outputs": []
    },
    {
      "cell_type": "markdown",
      "metadata": {
        "id": "dtzY9pBnA200"
      },
      "source": [
        "Assign the outputs of the original dataset to <code>x</code> and <code>y</code>. Then, apply the transform <code>add_mult</code> to the dataset and output the values as <code>x_</code> and <code>y_</code>, respectively: \n"
      ]
    },
    {
      "cell_type": "code",
      "metadata": {
        "colab": {
          "base_uri": "https://localhost:8080/"
        },
        "id": "oKW3mJEXA200",
        "outputId": "bd90987f-dba8-4bf8-d7e9-f4fff8a68a13"
      },
      "source": [
        "# Use loop to print out first 10 elements in dataset\n",
        "\n",
        "for i in range(10):\n",
        "    x, y = data_set[i]\n",
        "    print('Index: ', i, 'Original x: ', x, 'Original y: ', y)\n",
        "    x_, y_ = a_m(data_set[i])\n",
        "    print('Index: ', i, 'Transformed x_:', x_, 'Transformed y_:', y_)"
      ],
      "execution_count": 9,
      "outputs": [
        {
          "output_type": "stream",
          "name": "stdout",
          "text": [
            "Index:  0 Original x:  tensor([2., 2.]) Original y:  tensor([1.])\n",
            "Index:  0 Transformed x_: tensor([3., 3.]) Transformed y_: tensor([2.])\n",
            "Index:  1 Original x:  tensor([2., 2.]) Original y:  tensor([1.])\n",
            "Index:  1 Transformed x_: tensor([3., 3.]) Transformed y_: tensor([2.])\n",
            "Index:  2 Original x:  tensor([2., 2.]) Original y:  tensor([1.])\n",
            "Index:  2 Transformed x_: tensor([3., 3.]) Transformed y_: tensor([2.])\n",
            "Index:  3 Original x:  tensor([2., 2.]) Original y:  tensor([1.])\n",
            "Index:  3 Transformed x_: tensor([3., 3.]) Transformed y_: tensor([2.])\n",
            "Index:  4 Original x:  tensor([2., 2.]) Original y:  tensor([1.])\n",
            "Index:  4 Transformed x_: tensor([3., 3.]) Transformed y_: tensor([2.])\n",
            "Index:  5 Original x:  tensor([2., 2.]) Original y:  tensor([1.])\n",
            "Index:  5 Transformed x_: tensor([3., 3.]) Transformed y_: tensor([2.])\n",
            "Index:  6 Original x:  tensor([2., 2.]) Original y:  tensor([1.])\n",
            "Index:  6 Transformed x_: tensor([3., 3.]) Transformed y_: tensor([2.])\n",
            "Index:  7 Original x:  tensor([2., 2.]) Original y:  tensor([1.])\n",
            "Index:  7 Transformed x_: tensor([3., 3.]) Transformed y_: tensor([2.])\n",
            "Index:  8 Original x:  tensor([2., 2.]) Original y:  tensor([1.])\n",
            "Index:  8 Transformed x_: tensor([3., 3.]) Transformed y_: tensor([2.])\n",
            "Index:  9 Original x:  tensor([2., 2.]) Original y:  tensor([1.])\n",
            "Index:  9 Transformed x_: tensor([3., 3.]) Transformed y_: tensor([2.])\n"
          ]
        }
      ]
    },
    {
      "cell_type": "markdown",
      "metadata": {
        "id": "Upwt9sk8A200"
      },
      "source": [
        "As the result, <code>x</code> has been added by 1 and y has been multiplied by 2, as <i>[2, 2] + 1 = [3, 3]</i> and <i>[1] x 2 = [2]</i>\n"
      ]
    },
    {
      "cell_type": "markdown",
      "metadata": {
        "id": "nVrz4Ks0A201"
      },
      "source": [
        "<!--Empty Space for separating topics-->\n"
      ]
    },
    {
      "cell_type": "markdown",
      "metadata": {
        "id": "H8rp6SYfA201"
      },
      "source": [
        "We can apply the transform object every time we create a new <code>toy_set object</code>? Remember, we have the constructor in toy_set class with the parameter <code>transform = None</code>.\n",
        "When we create a new object using the constructor, we can assign the transform object to the parameter transform, as the following code demonstrates.\n"
      ]
    },
    {
      "cell_type": "code",
      "metadata": {
        "id": "5PkCZtZOA202"
      },
      "source": [
        "# Create a new data_set object with add_mult object as transform\n",
        "\n",
        "cust_data_set = toy_set(transform = a_m)"
      ],
      "execution_count": 10,
      "outputs": []
    },
    {
      "cell_type": "markdown",
      "metadata": {
        "id": "y3yTLL7pA202"
      },
      "source": [
        "This applied <code>a_m</code> object (a transform method) to every element in <code>cust_data_set</code> as initialized. Let us print out the first 10 elements in <code>cust_data_set</code> in order to see whether the <code>a_m</code> applied on <code>cust_data_set</code>\n"
      ]
    },
    {
      "cell_type": "code",
      "metadata": {
        "colab": {
          "base_uri": "https://localhost:8080/"
        },
        "id": "U2jbDjiRA203",
        "outputId": "95d1cfa7-e122-4faa-fcad-2ed7b862edb3"
      },
      "source": [
        "# Use loop to print out first 10 elements in dataset\n",
        "\n",
        "for i in range(10):\n",
        "    x, y = data_set[i]\n",
        "    print('Index: ', i, 'Original x: ', x, 'Original y: ', y)\n",
        "    x_, y_ = cust_data_set[i]\n",
        "    print('Index: ', i, 'Transformed x_:', x_, 'Transformed y_:', y_)"
      ],
      "execution_count": 11,
      "outputs": [
        {
          "output_type": "stream",
          "name": "stdout",
          "text": [
            "Index:  0 Original x:  tensor([2., 2.]) Original y:  tensor([1.])\n",
            "Index:  0 Transformed x_: tensor([3., 3.]) Transformed y_: tensor([2.])\n",
            "Index:  1 Original x:  tensor([2., 2.]) Original y:  tensor([1.])\n",
            "Index:  1 Transformed x_: tensor([3., 3.]) Transformed y_: tensor([2.])\n",
            "Index:  2 Original x:  tensor([2., 2.]) Original y:  tensor([1.])\n",
            "Index:  2 Transformed x_: tensor([3., 3.]) Transformed y_: tensor([2.])\n",
            "Index:  3 Original x:  tensor([2., 2.]) Original y:  tensor([1.])\n",
            "Index:  3 Transformed x_: tensor([3., 3.]) Transformed y_: tensor([2.])\n",
            "Index:  4 Original x:  tensor([2., 2.]) Original y:  tensor([1.])\n",
            "Index:  4 Transformed x_: tensor([3., 3.]) Transformed y_: tensor([2.])\n",
            "Index:  5 Original x:  tensor([2., 2.]) Original y:  tensor([1.])\n",
            "Index:  5 Transformed x_: tensor([3., 3.]) Transformed y_: tensor([2.])\n",
            "Index:  6 Original x:  tensor([2., 2.]) Original y:  tensor([1.])\n",
            "Index:  6 Transformed x_: tensor([3., 3.]) Transformed y_: tensor([2.])\n",
            "Index:  7 Original x:  tensor([2., 2.]) Original y:  tensor([1.])\n",
            "Index:  7 Transformed x_: tensor([3., 3.]) Transformed y_: tensor([2.])\n",
            "Index:  8 Original x:  tensor([2., 2.]) Original y:  tensor([1.])\n",
            "Index:  8 Transformed x_: tensor([3., 3.]) Transformed y_: tensor([2.])\n",
            "Index:  9 Original x:  tensor([2., 2.]) Original y:  tensor([1.])\n",
            "Index:  9 Transformed x_: tensor([3., 3.]) Transformed y_: tensor([2.])\n"
          ]
        }
      ]
    },
    {
      "cell_type": "markdown",
      "metadata": {
        "id": "8m1O52_iA203"
      },
      "source": [
        "The result is the same as the previous method.\n"
      ]
    },
    {
      "cell_type": "markdown",
      "metadata": {
        "id": "DrtTb1k2A204"
      },
      "source": [
        "<!--Empty Space for separating topics-->\n"
      ]
    },
    {
      "cell_type": "code",
      "metadata": {
        "id": "5p4KuqrPA204"
      },
      "source": [
        "# Practice: Construct your own my_add_mult transform. Apply my_add_mult on a new toy_set object. Print out the first three elements from the transformed dataset.\n",
        "\n",
        "# Type your code here."
      ],
      "execution_count": 12,
      "outputs": []
    },
    {
      "cell_type": "markdown",
      "metadata": {
        "id": "bzRxG2xKA205"
      },
      "source": [
        "Double-click <b>here</b> for the solution.\n",
        "\n",
        "<!-- \n",
        "class my_add_mult(object):   \n",
        "    def __init__(self, add = 2, mul = 10):\n",
        "        self.add=add\n",
        "        self.mul=mul\n",
        "        \n",
        "    def __call__(self, sample):\n",
        "        x = sample[0]\n",
        "        y = sample[1]\n",
        "        x = x + self.add\n",
        "        y = y + self.add\n",
        "        x = x * self.mul\n",
        "        y = y * self.mul\n",
        "        sample = x, y\n",
        "        return sample\n",
        "        \n",
        "       \n",
        "my_dataset = toy_set(transform = my_add_mult())\n",
        "for i in range(3):\n",
        "    x_, y_ = my_dataset[i]\n",
        "    print('Index: ', i, 'Transformed x_:', x_, 'Transformed y_:', y_)\n",
        "    \n",
        " -->\n"
      ]
    },
    {
      "cell_type": "markdown",
      "metadata": {
        "id": "WLLs1EwXA205"
      },
      "source": [
        "<!--Empty Space for separating topics-->\n"
      ]
    },
    {
      "cell_type": "markdown",
      "metadata": {
        "id": "N02kZI9KA205"
      },
      "source": [
        "<h2 id=\"Compose\">Compose</h2>\n"
      ]
    },
    {
      "cell_type": "markdown",
      "metadata": {
        "id": "nJKfwB8qA206"
      },
      "source": [
        "You can compose multiple transforms on the dataset object. First, import <code>transforms</code> from <code>torchvision</code>:\n"
      ]
    },
    {
      "cell_type": "code",
      "metadata": {
        "id": "f3S3Yb3gA206"
      },
      "source": [
        "# Run the command below when you do not have torchvision installed\n",
        "# !conda install -y torchvision\n",
        "\n",
        "from torchvision import transforms"
      ],
      "execution_count": 13,
      "outputs": []
    },
    {
      "cell_type": "markdown",
      "metadata": {
        "id": "8Z70-6wMA206"
      },
      "source": [
        "Then, create a new transform class that multiplies each of the elements by 100: \n"
      ]
    },
    {
      "cell_type": "code",
      "metadata": {
        "id": "8UEBfeh4A207"
      },
      "source": [
        "# Create tranform class mult\n",
        "\n",
        "class mult(object):\n",
        "    \n",
        "    # Constructor\n",
        "    def __init__(self, mult = 100):\n",
        "        self.mult = mult\n",
        "        \n",
        "    # Executor\n",
        "    def __call__(self, sample):\n",
        "        x = sample[0]\n",
        "        y = sample[1]\n",
        "        x = x * self.mult\n",
        "        y = y * self.mult\n",
        "        sample = x, y\n",
        "        return sample"
      ],
      "execution_count": 14,
      "outputs": []
    },
    {
      "cell_type": "markdown",
      "metadata": {
        "id": "bVGCngQfA207"
      },
      "source": [
        "Now let us try to combine the transforms <code>add_mult</code> and <code>mult</code>\n"
      ]
    },
    {
      "cell_type": "code",
      "metadata": {
        "colab": {
          "base_uri": "https://localhost:8080/"
        },
        "id": "T9q18X34A207",
        "outputId": "467c87f3-5665-4b2c-c86a-ad7aa424596c"
      },
      "source": [
        "# Combine the add_mult() and mult()\n",
        "\n",
        "data_transform = transforms.Compose([add_mult(), mult()])\n",
        "print(\"The combination of transforms (Compose): \", data_transform)\n"
      ],
      "execution_count": 15,
      "outputs": [
        {
          "output_type": "stream",
          "name": "stdout",
          "text": [
            "The combination of transforms (Compose):  Compose(\n",
            "    <__main__.add_mult object at 0x7fa8d1180510>\n",
            "    <__main__.mult object at 0x7fa8ceb258d0>\n",
            ")\n"
          ]
        }
      ]
    },
    {
      "cell_type": "markdown",
      "metadata": {
        "id": "4coenRTzA208"
      },
      "source": [
        "The new <code>Compose</code> object will perform each transform concurrently as shown in this figure:\n"
      ]
    },
    {
      "cell_type": "markdown",
      "metadata": {
        "id": "NLD_mOouA208"
      },
      "source": [
        "<img src=\"https://s3-api.us-geo.objectstorage.softlayer.net/cf-courses-data/CognitiveClass/DL0110EN/notebook_images%20/chapter%201/1.3.1_trasform.png\" width=\"500\" alt=\"Compose PyTorch\">\n"
      ]
    },
    {
      "cell_type": "code",
      "metadata": {
        "colab": {
          "base_uri": "https://localhost:8080/"
        },
        "id": "GOGu9f4pA208",
        "outputId": "22cd5853-2643-4c0d-a6b3-8b794d901738"
      },
      "source": [
        "data_transform(data_set[0])"
      ],
      "execution_count": 16,
      "outputs": [
        {
          "output_type": "execute_result",
          "data": {
            "text/plain": [
              "(tensor([300., 300.]), tensor([200.]))"
            ]
          },
          "metadata": {},
          "execution_count": 16
        }
      ]
    },
    {
      "cell_type": "code",
      "metadata": {
        "colab": {
          "base_uri": "https://localhost:8080/"
        },
        "id": "phDGm6f0A208",
        "outputId": "e0ccfb4c-26f0-486a-fcce-dbd24c8d837a"
      },
      "source": [
        "x,y=data_set[0]\n",
        "x_,y_=data_transform(data_set[0])\n",
        "print( 'Original x: ', x, 'Original y: ', y)\n",
        "\n",
        "print( 'Transformed x_:', x_, 'Transformed y_:', y_)"
      ],
      "execution_count": 17,
      "outputs": [
        {
          "output_type": "stream",
          "name": "stdout",
          "text": [
            "Original x:  tensor([2., 2.]) Original y:  tensor([1.])\n",
            "Transformed x_: tensor([300., 300.]) Transformed y_: tensor([200.])\n"
          ]
        }
      ]
    },
    {
      "cell_type": "markdown",
      "metadata": {
        "id": "G_L_padfA209"
      },
      "source": [
        "Now we can pass the new <code>Compose</code> object (The combination of methods <code>add_mult()</code> and <code>mult</code>) to the constructor for creating <code>toy_set</code> object.\n"
      ]
    },
    {
      "cell_type": "code",
      "metadata": {
        "id": "mBgfDaDXA209"
      },
      "source": [
        "# Create a new toy_set object with compose object as transform\n",
        "\n",
        "compose_data_set = toy_set(transform = data_transform)"
      ],
      "execution_count": 18,
      "outputs": []
    },
    {
      "cell_type": "markdown",
      "metadata": {
        "id": "F7BWJ1RXA20-"
      },
      "source": [
        "Let us print out the first 3 elements in different <code>toy_set</code> datasets in order to compare the output after different transforms have been applied: \n"
      ]
    },
    {
      "cell_type": "code",
      "metadata": {
        "colab": {
          "base_uri": "https://localhost:8080/"
        },
        "id": "YJBL7uiWA20-",
        "outputId": "5e274f37-292f-4205-fe84-96193dbc0b34"
      },
      "source": [
        "# Use loop to print out first 3 elements in dataset\n",
        "\n",
        "for i in range(3):\n",
        "    x, y = data_set[i]\n",
        "    print('Index: ', i, 'Original x: ', x, 'Original y: ', y)\n",
        "    x_, y_ = cust_data_set[i]\n",
        "    print('Index: ', i, 'Transformed x_:', x_, 'Transformed y_:', y_)\n",
        "    x_co, y_co = compose_data_set[i]\n",
        "    print('Index: ', i, 'Compose Transformed x_co: ', x_co ,'Compose Transformed y_co: ',y_co)"
      ],
      "execution_count": 19,
      "outputs": [
        {
          "output_type": "stream",
          "name": "stdout",
          "text": [
            "Index:  0 Original x:  tensor([2., 2.]) Original y:  tensor([1.])\n",
            "Index:  0 Transformed x_: tensor([3., 3.]) Transformed y_: tensor([2.])\n",
            "Index:  0 Compose Transformed x_co:  tensor([300., 300.]) Compose Transformed y_co:  tensor([200.])\n",
            "Index:  1 Original x:  tensor([2., 2.]) Original y:  tensor([1.])\n",
            "Index:  1 Transformed x_: tensor([3., 3.]) Transformed y_: tensor([2.])\n",
            "Index:  1 Compose Transformed x_co:  tensor([300., 300.]) Compose Transformed y_co:  tensor([200.])\n",
            "Index:  2 Original x:  tensor([2., 2.]) Original y:  tensor([1.])\n",
            "Index:  2 Transformed x_: tensor([3., 3.]) Transformed y_: tensor([2.])\n",
            "Index:  2 Compose Transformed x_co:  tensor([300., 300.]) Compose Transformed y_co:  tensor([200.])\n"
          ]
        }
      ]
    },
    {
      "cell_type": "markdown",
      "metadata": {
        "id": "WEosMR6JA20_"
      },
      "source": [
        "Let us see what happened on index 0. The original value of <code>x</code> is <i>[2, 2]</i>, and the original value of <code>y</code> is [1]. If we only applied <code>add_mult()</code> on the original dataset, then the <code>x</code> became <i>[3, 3]</i> and y became <i>[2]</i>. Now let us see what is the value after applied both <code>add_mult()</code> and <code>mult()</code>. The result of x is <i>[300, 300]</i> and y is <i>[200]</i>. The calculation which is equavalent to the compose is <i> x = ([2, 2] + 1) x 100 = [300, 300], y = ([1] x 2) x 100 = 200</i>\n"
      ]
    },
    {
      "cell_type": "markdown",
      "metadata": {
        "id": "TA7vI0CPA20_"
      },
      "source": [
        "<h3>Practice</h3>\n"
      ]
    },
    {
      "cell_type": "markdown",
      "metadata": {
        "id": "DxXk_xJEA20_"
      },
      "source": [
        "Try to combine the <code>mult()</code> and <code>add_mult()</code> as <code>mult()</code> to be executed first. And apply this on a new <code>toy_set</code> dataset. Print out the first 3 elements in the transformed dataset.\n"
      ]
    },
    {
      "cell_type": "code",
      "metadata": {
        "colab": {
          "base_uri": "https://localhost:8080/"
        },
        "id": "G46l6PLFA20_",
        "outputId": "cfcd4075-c70e-4c53-a8ae-3517a7589f88"
      },
      "source": [
        "# Practice: Make a compose as mult() execute first and then add_mult(). Apply the compose on toy_set dataset. Print out the first 3 elements in the transformed dataset.\n",
        "my_compose = transforms.Compose([mult(), add_mult()])\n",
        "my_transformed_dataset = toy_set(transform = my_compose)\n",
        "for i in range(3):\n",
        "    x_, y_ = my_transformed_dataset[i]\n",
        "    print('Index: ', i, 'Transformed x_:', x_, 'Transformed y_:', y_)\n",
        "# Type your code here."
      ],
      "execution_count": 26,
      "outputs": [
        {
          "output_type": "stream",
          "name": "stdout",
          "text": [
            "Index:  0 Transformed x_: tensor([201., 201.]) Transformed y_: tensor([200.])\n",
            "Index:  1 Transformed x_: tensor([201., 201.]) Transformed y_: tensor([200.])\n",
            "Index:  2 Transformed x_: tensor([201., 201.]) Transformed y_: tensor([200.])\n"
          ]
        }
      ]
    },
    {
      "cell_type": "markdown",
      "metadata": {
        "id": "RAxb1qvmA21A"
      },
      "source": [
        "Double-click <b>here</b> for the solution.\n",
        "\n",
        "<!--\n",
        "my_compose = transforms.Compose([mult(), add_mult()])\n",
        "my_transformed_dataset = toy_set(transform = my_compose)\n",
        "for i in range(3):\n",
        "    x_, y_ = my_transformed_dataset[i]\n",
        "    print('Index: ', i, 'Transformed x_:', x_, 'Transformed y_:', y_)\n",
        "-->\n"
      ]
    }
  ]
}